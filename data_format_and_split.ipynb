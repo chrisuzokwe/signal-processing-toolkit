{
 "cells": [
  {
   "cell_type": "code",
   "execution_count": 7,
   "metadata": {},
   "outputs": [],
   "source": [
    "import os\n",
    "import shutil"
   ]
  },
  {
   "cell_type": "code",
   "execution_count": 2,
   "metadata": {},
   "outputs": [],
   "source": [
    "filelist = os.listdir('/home/shared/cuzokwe/datasets/SALAMI/audio/')\n",
    "filenums = [int(file.split(\".\")[0]) for file in filelist]\n",
    "filenums.sort()"
   ]
  },
  {
   "cell_type": "code",
   "execution_count": 3,
   "metadata": {},
   "outputs": [
    {
     "name": "stdout",
     "output_type": "stream",
     "text": [
      "572\n"
     ]
    }
   ],
   "source": [
    "print(len(filenums))\n",
    "length = len(filenums)"
   ]
  },
  {
   "cell_type": "code",
   "execution_count": 5,
   "metadata": {},
   "outputs": [],
   "source": [
    "train = []\n",
    "val = []\n",
    "\n",
    "while(length):\n",
    "    length = length - 1\n",
    "    if ((length % 7) == 0):\n",
    "        val.append(filenums[length])\n",
    "    else:\n",
    "        train.append(filenums[length])"
   ]
  },
  {
   "cell_type": "code",
   "execution_count": 6,
   "metadata": {},
   "outputs": [
    {
     "name": "stdout",
     "output_type": "stream",
     "text": [
      "[1654, 1653, 1652, 1651, 1647, 1642, 1640, 1635, 1634, 1631, 1629, 1628, 1627, 1626, 1624, 1622, 1620, 1619, 1618, 1616, 1615, 1614, 1611, 1610, 1608, 1607, 1605, 1604, 1602, 1600, 954, 952, 951, 948, 943, 942, 941, 939, 938, 936, 934, 933, 932, 930, 925, 920, 914, 911, 910, 909, 906, 904, 900, 899, 898, 895, 894, 893, 884, 880, 878, 877, 872, 869, 866, 864, 863, 862, 861, 860, 858, 855, 854, 853, 852, 851, 846, 845, 844, 843, 842, 839, 835, 832, 831, 829, 828, 827, 822, 819, 818, 816, 815, 814, 811, 808, 806, 805, 804, 802, 799, 794, 791, 790, 787, 786, 783, 782, 781, 780, 775, 774, 772, 771, 770, 768, 767, 765, 762, 760, 757, 752, 750, 749, 740, 739, 738, 736, 735, 733, 728, 727, 726, 725, 724, 723, 720, 719, 718, 717, 716, 715, 711, 710, 709, 708, 707, 706, 702, 701, 700, 696, 695, 694, 690, 688, 687, 686, 685, 684, 682, 680, 679, 678, 677, 675, 672, 671, 669, 668, 667, 664, 662, 661, 660, 659, 658, 655, 653, 652, 651, 646, 643, 642, 639, 638, 637, 636, 634, 632, 629, 628, 626, 624, 622, 621, 619, 618, 616, 615, 614, 613, 611, 610, 608, 605, 604, 602, 599, 598, 597, 596, 595, 594, 591, 590, 587, 584, 583, 582, 580, 579, 578, 576, 575, 574, 572, 571, 570, 568, 567, 566, 564, 563, 562, 560, 559, 557, 555, 551, 550, 549, 548, 543, 539, 538, 536, 535, 534, 533, 531, 528, 524, 522, 520, 518, 516, 515, 514, 512, 510, 509, 507, 506, 504, 503, 502, 501, 498, 496, 495, 494, 493, 492, 490, 486, 485, 484, 483, 482, 478, 477, 476, 474, 469, 468, 463, 462, 458, 455, 453, 452, 447, 446, 445, 444, 443, 440, 438, 434, 432, 431, 429, 428, 426, 424, 422, 419, 416, 415, 413, 412, 411, 410, 408, 407, 404, 402, 400, 399, 398, 397, 395, 394, 392, 390, 389, 388, 384, 383, 382, 380, 379, 378, 375, 374, 373, 370, 367, 366, 364, 363, 362, 360, 359, 358, 355, 354, 352, 350, 349, 348, 344, 343, 342, 341, 340, 339, 335, 334, 333, 332, 331, 330, 327, 326, 325, 324, 323, 322, 318, 317, 316, 315, 312, 311, 309, 308, 307, 303, 301, 300, 298, 294, 293, 292, 287, 285, 282, 280, 276, 272, 268, 264, 259, 256, 254, 252, 250, 246, 244, 237, 236, 232, 231, 229, 227, 226, 223, 218, 216, 215, 204, 203, 200, 198, 197, 195, 191, 186, 183, 182, 176, 174, 170, 164, 162, 158, 157, 156, 154, 149, 148, 146, 141, 140, 135, 134, 133, 132, 131, 128, 122, 120, 116, 114, 112, 111, 108, 107, 102, 101, 99, 96, 86, 82, 79, 75, 69, 67, 64, 63, 61, 59, 56, 54, 52, 51, 50, 48, 47, 40, 38, 37, 32, 31, 28, 27, 24, 23, 22, 21, 19, 14, 12, 11, 10, 7, 5, 3]\n",
      "[1648, 1630, 1621, 1613, 1603, 944, 935, 919, 901, 890, 867, 859, 847, 837, 823, 813, 800, 784, 773, 763, 747, 731, 722, 714, 704, 691, 683, 674, 663, 654, 640, 630, 620, 612, 600, 592, 581, 573, 565, 556, 542, 532, 517, 508, 499, 491, 480, 467, 451, 439, 427, 414, 405, 396, 386, 376, 365, 356, 346, 338, 328, 320, 310, 299, 283, 263, 245, 228, 213, 192, 173, 155, 139, 124, 110, 95, 66, 53, 39, 26, 13, 2]\n"
     ]
    }
   ],
   "source": [
    "print(train)\n",
    "print(val)"
   ]
  },
  {
   "cell_type": "code",
   "execution_count": 8,
   "metadata": {},
   "outputs": [
    {
     "ename": "SameFileError",
     "evalue": "'/home/shared/cuzokwe/datasets/SALAMI/audio/1648.wav' and '/home/shared/cuzokwe/datasets/SALAMI/audio/1648.wav' are the same file",
     "output_type": "error",
     "traceback": [
      "\u001b[0;31m---------------------------------------------------------------------------\u001b[0m",
      "\u001b[0;31mSameFileError\u001b[0m                             Traceback (most recent call last)",
      "\u001b[0;32m<ipython-input-8-a2f664459ce6>\u001b[0m in \u001b[0;36m<module>\u001b[0;34m\u001b[0m\n\u001b[1;32m     13\u001b[0m     \u001b[0msource\u001b[0m \u001b[0;34m=\u001b[0m \u001b[0msourcepath\u001b[0m \u001b[0;34m+\u001b[0m \u001b[0mstr\u001b[0m\u001b[0;34m(\u001b[0m\u001b[0mnum\u001b[0m\u001b[0;34m)\u001b[0m \u001b[0;34m+\u001b[0m \u001b[0;34m'.wav'\u001b[0m\u001b[0;34m\u001b[0m\u001b[0;34m\u001b[0m\u001b[0m\n\u001b[1;32m     14\u001b[0m \u001b[0;34m\u001b[0m\u001b[0m\n\u001b[0;32m---> 15\u001b[0;31m     \u001b[0mshutil\u001b[0m\u001b[0;34m.\u001b[0m\u001b[0mcopyfile\u001b[0m\u001b[0;34m(\u001b[0m\u001b[0msource\u001b[0m\u001b[0;34m,\u001b[0m \u001b[0mdestination\u001b[0m\u001b[0;34m)\u001b[0m\u001b[0;34m\u001b[0m\u001b[0;34m\u001b[0m\u001b[0m\n\u001b[0m",
      "\u001b[0;32m/home/shared/miniconda3/envs/cu-py36/lib/python3.6/shutil.py\u001b[0m in \u001b[0;36mcopyfile\u001b[0;34m(src, dst, follow_symlinks)\u001b[0m\n\u001b[1;32m    102\u001b[0m     \"\"\"\n\u001b[1;32m    103\u001b[0m     \u001b[0;32mif\u001b[0m \u001b[0m_samefile\u001b[0m\u001b[0;34m(\u001b[0m\u001b[0msrc\u001b[0m\u001b[0;34m,\u001b[0m \u001b[0mdst\u001b[0m\u001b[0;34m)\u001b[0m\u001b[0;34m:\u001b[0m\u001b[0;34m\u001b[0m\u001b[0;34m\u001b[0m\u001b[0m\n\u001b[0;32m--> 104\u001b[0;31m         \u001b[0;32mraise\u001b[0m \u001b[0mSameFileError\u001b[0m\u001b[0;34m(\u001b[0m\u001b[0;34m\"{!r} and {!r} are the same file\"\u001b[0m\u001b[0;34m.\u001b[0m\u001b[0mformat\u001b[0m\u001b[0;34m(\u001b[0m\u001b[0msrc\u001b[0m\u001b[0;34m,\u001b[0m \u001b[0mdst\u001b[0m\u001b[0;34m)\u001b[0m\u001b[0;34m)\u001b[0m\u001b[0;34m\u001b[0m\u001b[0;34m\u001b[0m\u001b[0m\n\u001b[0m\u001b[1;32m    105\u001b[0m \u001b[0;34m\u001b[0m\u001b[0m\n\u001b[1;32m    106\u001b[0m     \u001b[0;32mfor\u001b[0m \u001b[0mfn\u001b[0m \u001b[0;32min\u001b[0m \u001b[0;34m[\u001b[0m\u001b[0msrc\u001b[0m\u001b[0;34m,\u001b[0m \u001b[0mdst\u001b[0m\u001b[0;34m]\u001b[0m\u001b[0;34m:\u001b[0m\u001b[0;34m\u001b[0m\u001b[0;34m\u001b[0m\u001b[0m\n",
      "\u001b[0;31mSameFileError\u001b[0m: '/home/shared/cuzokwe/datasets/SALAMI/audio/1648.wav' and '/home/shared/cuzokwe/datasets/SALAMI/audio/1648.wav' are the same file"
     ]
    }
   ],
   "source": [
    "trainpath = '/home/shared/cuzokwe/train/'\n",
    "valpath = '/home/shared/cuzokwe/val/'\n",
    "sourcepath = '/home/shared/cuzokwe/datasets/SALAMI/audio/'\n",
    "\n",
    "for num in train:\n",
    "    destination = trainpath + str(num) + '.wav'\n",
    "    source = sourcepath + str(num) + '.wav'\n",
    "    \n",
    "    shutil.copyfile(source, destination)"
   ]
  },
  {
   "cell_type": "code",
   "execution_count": 9,
   "metadata": {},
   "outputs": [],
   "source": [
    "for num in val:\n",
    "    destination = valpath + str(num) + '.wav'\n",
    "    source = sourcepath + str(num) + '.wav'\n",
    "    \n",
    "    shutil.copyfile(source, destination)"
   ]
  },
  {
   "cell_type": "code",
   "execution_count": null,
   "metadata": {},
   "outputs": [],
   "source": []
  }
 ],
 "metadata": {
  "kernelspec": {
   "display_name": "Alphabook",
   "language": "python",
   "name": "venus1"
  },
  "language_info": {
   "codemirror_mode": {
    "name": "ipython",
    "version": 3
   },
   "file_extension": ".py",
   "mimetype": "text/x-python",
   "name": "python",
   "nbconvert_exporter": "python",
   "pygments_lexer": "ipython3",
   "version": "3.6.10"
  }
 },
 "nbformat": 4,
 "nbformat_minor": 2
}
