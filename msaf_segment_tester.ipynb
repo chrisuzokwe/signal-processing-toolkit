{
 "cells": [
  {
   "cell_type": "markdown",
   "metadata": {},
   "source": [
    "# MSAF examples using 25 songs from my FotF dataset"
   ]
  },
  {
   "cell_type": "code",
   "execution_count": 1,
   "metadata": {},
   "outputs": [
    {
     "ename": "ModuleNotFoundError",
     "evalue": "No module named 'msaf'",
     "output_type": "error",
     "traceback": [
      "\u001b[0;31m---------------------------------------------------------------------------\u001b[0m",
      "\u001b[0;31mModuleNotFoundError\u001b[0m                       Traceback (most recent call last)",
      "\u001b[0;32m<ipython-input-1-e2cfefba33f4>\u001b[0m in \u001b[0;36m<module>\u001b[0;34m\u001b[0m\n\u001b[1;32m      1\u001b[0m \u001b[0;32mfrom\u001b[0m \u001b[0m__future__\u001b[0m \u001b[0;32mimport\u001b[0m \u001b[0mprint_function\u001b[0m\u001b[0;34m\u001b[0m\u001b[0;34m\u001b[0m\u001b[0m\n\u001b[0;32m----> 2\u001b[0;31m \u001b[0;32mimport\u001b[0m \u001b[0mmsaf\u001b[0m\u001b[0;34m\u001b[0m\u001b[0;34m\u001b[0m\u001b[0m\n\u001b[0m\u001b[1;32m      3\u001b[0m \u001b[0;32mimport\u001b[0m \u001b[0mos\u001b[0m\u001b[0;34m\u001b[0m\u001b[0;34m\u001b[0m\u001b[0m\n\u001b[1;32m      4\u001b[0m \u001b[0;32mimport\u001b[0m \u001b[0mlibrosa\u001b[0m\u001b[0;34m.\u001b[0m\u001b[0mdisplay\u001b[0m\u001b[0;34m\u001b[0m\u001b[0;34m\u001b[0m\u001b[0m\n\u001b[1;32m      5\u001b[0m \u001b[0;32mimport\u001b[0m \u001b[0mmatplotlib\u001b[0m\u001b[0;34m.\u001b[0m\u001b[0mpyplot\u001b[0m \u001b[0;32mas\u001b[0m \u001b[0mplt\u001b[0m\u001b[0;34m\u001b[0m\u001b[0;34m\u001b[0m\u001b[0m\n",
      "\u001b[0;31mModuleNotFoundError\u001b[0m: No module named 'msaf'"
     ]
    }
   ],
   "source": [
    "from __future__ import print_function\n",
    "import msaf\n",
    "import os\n",
    "import librosa.display\n",
    "import matplotlib.pyplot as plt\n",
    "from matplotlib.pyplot import figure\n",
    "import IPython.display\n",
    "from ipywidgets import interact, interactive, fixed, interact_manual\n",
    "import ipywidgets as widgets\n"
   ]
  },
  {
   "cell_type": "markdown",
   "metadata": {},
   "source": [
    "# Select DS_input folder, graph output folder, algorithm & params"
   ]
  },
  {
   "cell_type": "code",
   "execution_count": 1,
   "metadata": {},
   "outputs": [],
   "source": [
    "ds_path = '/home/shared/cuzokwe/datasets/FotF/audio'\n",
    "single_file_path = '/home/shared/cuzokwe/datasets/FotF/audio/Around__the_World.flac'\n",
    "out_path = '/home/shared/cuzokwe/datasets/FotF/visualizations'\n",
    "b_alg = \"olda\"\n",
    "b_algs = ['olda', 'scluster', 'foote', 'sf', 'cnmf']\n",
    "l_alg = \"fmc2d\"\n",
    "l_algs = ['fmc2d', 'scluster','cnmf']"
   ]
  },
  {
   "cell_type": "markdown",
   "metadata": {},
   "source": [
    "# Display dataset files & algorithms w/ parameters"
   ]
  },
  {
   "cell_type": "code",
   "execution_count": null,
   "metadata": {
    "scrolled": true
   },
   "outputs": [],
   "source": [
    "titles = []\n",
    "for file in os.listdir(ds_path):\n",
    "    print(file)\n",
    "    titles.append(file)\n",
    "    \n",
    "print(\"\\nSegmenters: \", msaf.get_all_boundary_algorithms())\n",
    "print(\"\\nLabelers \", msaf.get_all_label_algorithms())\n",
    "\n",
    "msaf.algorithms.vmo.config[\"vmo_k\"] = 4\n",
    "print(msaf.algorithms.vmo.config)\n"
   ]
  },
  {
   "cell_type": "markdown",
   "metadata": {},
   "source": [
    "# Single file segment/display + boundary sonified audio"
   ]
  },
  {
   "cell_type": "code",
   "execution_count": 2,
   "metadata": {
    "scrolled": true
   },
   "outputs": [
    {
     "ename": "NameError",
     "evalue": "name 'msaf' is not defined",
     "output_type": "error",
     "traceback": [
      "\u001b[0;31m---------------------------------------------------------------------------\u001b[0m",
      "\u001b[0;31mNameError\u001b[0m                                 Traceback (most recent call last)",
      "\u001b[0;32m<ipython-input-2-4470c61bb23a>\u001b[0m in \u001b[0;36m<module>\u001b[0;34m\u001b[0m\n\u001b[1;32m      1\u001b[0m \u001b[0msonify\u001b[0m \u001b[0;34m=\u001b[0m \u001b[0;34m\"test.wav\"\u001b[0m\u001b[0;34m\u001b[0m\u001b[0;34m\u001b[0m\u001b[0m\n\u001b[0;32m----> 2\u001b[0;31m \u001b[0mboundaries\u001b[0m\u001b[0;34m,\u001b[0m \u001b[0mlabels\u001b[0m \u001b[0;34m=\u001b[0m \u001b[0mmsaf\u001b[0m\u001b[0;34m.\u001b[0m\u001b[0mprocess\u001b[0m\u001b[0;34m(\u001b[0m\u001b[0msingle_file_path\u001b[0m\u001b[0;34m,\u001b[0m \u001b[0mboundaries_id\u001b[0m\u001b[0;34m=\u001b[0m\u001b[0mb_alg\u001b[0m\u001b[0;34m,\u001b[0m \u001b[0mlabels_id\u001b[0m\u001b[0;34m=\u001b[0m\u001b[0ml_alg\u001b[0m\u001b[0;34m,\u001b[0m \u001b[0msonify_bounds\u001b[0m\u001b[0;34m=\u001b[0m\u001b[0;32mTrue\u001b[0m\u001b[0;34m,\u001b[0m \u001b[0mout_bounds\u001b[0m\u001b[0;34m=\u001b[0m\u001b[0msonify\u001b[0m\u001b[0;34m,\u001b[0m \u001b[0mout_sr\u001b[0m\u001b[0;34m=\u001b[0m\u001b[0;36m5512\u001b[0m\u001b[0;34m)\u001b[0m\u001b[0;34m\u001b[0m\u001b[0;34m\u001b[0m\u001b[0m\n\u001b[0m\u001b[1;32m      3\u001b[0m \u001b[0;34m\u001b[0m\u001b[0m\n\u001b[1;32m      4\u001b[0m \u001b[0my\u001b[0m\u001b[0;34m,\u001b[0m \u001b[0msr\u001b[0m \u001b[0;34m=\u001b[0m \u001b[0mlibrosa\u001b[0m\u001b[0;34m.\u001b[0m\u001b[0mload\u001b[0m\u001b[0;34m(\u001b[0m\u001b[0msingle_file_path\u001b[0m\u001b[0;34m,\u001b[0m \u001b[0msr\u001b[0m\u001b[0;34m=\u001b[0m\u001b[0;36m5512\u001b[0m\u001b[0;34m)\u001b[0m\u001b[0;34m\u001b[0m\u001b[0;34m\u001b[0m\u001b[0m\n\u001b[1;32m      5\u001b[0m \u001b[0mplt\u001b[0m\u001b[0;34m.\u001b[0m\u001b[0mfigure\u001b[0m\u001b[0;34m(\u001b[0m\u001b[0;34m)\u001b[0m\u001b[0;34m\u001b[0m\u001b[0;34m\u001b[0m\u001b[0m\n",
      "\u001b[0;31mNameError\u001b[0m: name 'msaf' is not defined"
     ]
    }
   ],
   "source": [
    "sonify = \"test.wav\"\n",
    "boundaries, labels = msaf.process(single_file_path, boundaries_id=b_alg, labels_id=l_alg, sonify_bounds=True, out_bounds=sonify, out_sr=5512)\n",
    "\n",
    "y, sr = librosa.load(single_file_path, sr=5512)\n",
    "plt.figure()\n",
    "figure(num=None, figsize=(20, 4), facecolor='w', edgecolor='k')\n",
    "librosa.display.waveplot(y,sr=sr)\n",
    "\n",
    "iter = 0\n",
    "for label in labels:\n",
    "    plt.axvline(x=boundaries[iter], ymin=0, ymax=1, color=\"orange\", linestyle=\"--\")\n",
    "    plt.text(boundaries[iter] + 0.2, 0, label, fontsize=12)\n",
    "    iter += 1\n",
    "    \n",
    "plt.title(os.path.basename(single_file_path) + \" | \" +\"boundaries: \" + b_alg + \", labels: \" + l_alg + \" | \")\n",
    "plt.show()\n",
    "\n",
    "out_audio = librosa.load(sonify, sr=44100)[0]\n",
    "IPython.display.Audio(out_audio, rate=44100)"
   ]
  },
  {
   "cell_type": "markdown",
   "metadata": {},
   "source": [
    "# Run segmentation over all songs -- store results in out_path"
   ]
  },
  {
   "cell_type": "code",
   "execution_count": null,
   "metadata": {},
   "outputs": [],
   "source": [
    "for b_alg in b_algs:\n",
    "    for l_alg in l_algs:\n",
    "        for file in os.listdir(ds_path):\n",
    "            if os.path.exists(out_path + \"/\" + b_alg + \"-\" + l_alg + \"/\" + file + \".png\") == False:\n",
    "\n",
    "                audio_path = ds_path + '/' + file\n",
    "\n",
    "                boundaries, labels = msaf.process(audio_path, boundaries_id=b_alg, labels_id=l_alg)\n",
    "\n",
    "                y, sr = librosa.load(audio_path, sr=5512)\n",
    "                plt.figure()\n",
    "                figure(num=None, figsize=(20, 4), facecolor='w', edgecolor='k')\n",
    "                librosa.display.waveplot(y,sr=sr)\n",
    "\n",
    "                # plot to graph\n",
    "                iter = 0\n",
    "                for label in labels:\n",
    "                    plt.axvline(x=boundaries[iter], ymin=0, ymax=1, color=\"orange\", linestyle=\"--\")\n",
    "                    plt.text(boundaries[iter] + 0.2, 0, label, fontsize=12)\n",
    "                    iter += 1\n",
    "\n",
    "                # try to save the figure\n",
    "                print(\"Printing \" + file)\n",
    "                try:\n",
    "                    plt.title(file + \" | \" +\"boundaries: \" + b_alg + \", labels: \" + l_alg + \" | \")\n",
    "\n",
    "                    #runs are stored in [boundary algorithm]-[label algorithm] folders. check to see if folder has been created5\n",
    "                    if not os.path.exists(out_path + \"/\" + b_alg + \"-\" + l_alg):\n",
    "                        os.mkdir(out_path + \"/\" + b_alg + \"-\" + l_alg)\n",
    "                        print(\"New boundary-label pair. Creating new directory...\")\n",
    "                        plt.savefig(out_path + \"/\" + b_alg + \"-\" + l_alg + \"/\" + file + \".png\")\n",
    "                    else:\n",
    "                        plt.savefig(out_path + \"/\" + b_alg + \"-\" + l_alg + \"/\" + file + \".png\")\n",
    "                    plt.close()\n",
    "                    print(file + \" print complete\")\n",
    "\n",
    "                except:\n",
    "                    print(\"Print failed for \" + file + \". Try reducing sample rate to reduce total number of samples plotted.\")\n",
    "\n",
    "            else:\n",
    "                print(file + \".png already exists here.\")"
   ]
  },
  {
   "cell_type": "code",
   "execution_count": null,
   "metadata": {},
   "outputs": [],
   "source": [
    "def comparevis(b_alg, l_alg):\n",
    "    out_path = '/home/shared/cuzokwe/datasets/FotF/visualizations'\n",
    "    title = 'Face_to_Face.flac'\n",
    "    IPython.display.Image(filename = out_path + \"/\" + b_alg + \"-\" + l_alg + \"/\" + title + \".png\")   \n",
    "    file = open(out_path + \"/\" + b_alg + \"-\" + l_alg + \"/\" + title + \".png\", \"rb\")\n",
    "    image = file.read()\n",
    "    widgets.Image(\n",
    "        value=image,\n",
    "        format='png',\n",
    "        width= 1200,\n",
    "        height=400,\n",
    "    )"
   ]
  },
  {
   "cell_type": "code",
   "execution_count": null,
   "metadata": {},
   "outputs": [],
   "source": [
    "interact(comparevis, b_alg = ['olda', 'scluster', 'foote', 'sf', 'cnmf'], l_alg = ['fmc2d', 'scluster','cnmf']);"
   ]
  },
  {
   "cell_type": "code",
   "execution_count": null,
   "metadata": {},
   "outputs": [],
   "source": [
    "b_alg = 'scluster'\n",
    "l_alg = 'fmc2d'\n",
    "IPython.display.Image(filename = out_path + \"/\" + b_alg + \"-\" + l_alg + \"/\" + title + \".png\") "
   ]
  },
  {
   "cell_type": "code",
   "execution_count": null,
   "metadata": {},
   "outputs": [],
   "source": [
    "b_alg = 'scluster'\n",
    "l_alg = 'scluster'\n",
    "IPython.display.Image(filename = out_path + \"/\" + b_alg + \"-\" + l_alg + \"/\" + title + \".png\")  "
   ]
  },
  {
   "cell_type": "code",
   "execution_count": null,
   "metadata": {},
   "outputs": [],
   "source": [
    "b_alg = 'scluster'\n",
    "l_alg = 'cnmf'\n",
    "IPython.display.Image(filename = out_path + \"/\" + b_alg + \"-\" + l_alg + \"/\" + title + \".png\")"
   ]
  },
  {
   "cell_type": "markdown",
   "metadata": {},
   "source": [
    "#### Current Notes/Observations\n",
    "I see a lot of consecutive segmenting across multiple algorithms -- could be worth creating a system to concatenate those\n",
    "\n",
    "boundary labels are almost never bar or beat synchronous -- might be possible to introduce a measure of boundary shift based on params\n"
   ]
  },
  {
   "cell_type": "markdown",
   "metadata": {},
   "source": [
    "#### Use case ideas\n",
    "Navigate through a collection of songs using segment level information to make segment decisions\n"
   ]
  }
 ],
 "metadata": {
  "kernelspec": {
   "display_name": "Alphabook",
   "language": "python",
   "name": "venus1"
  },
  "language_info": {
   "codemirror_mode": {
    "name": "ipython",
    "version": 3
   },
   "file_extension": ".py",
   "mimetype": "text/x-python",
   "name": "python",
   "nbconvert_exporter": "python",
   "pygments_lexer": "ipython3",
   "version": "3.6.10"
  }
 },
 "nbformat": 4,
 "nbformat_minor": 2
}
